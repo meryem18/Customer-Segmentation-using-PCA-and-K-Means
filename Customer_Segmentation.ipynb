{
 "cells": [
  {
   "cell_type": "markdown",
   "source": "# Customer Segmentation using PCA and K-Means",
   "metadata": {
    "is_collapsed": false,
    "cell_id": "4a71502530dd4120b5f42f79119e8f12",
    "tags": [],
    "deepnote_app_coordinates": {
     "x": 0,
     "y": 1,
     "w": 12,
     "h": 5
    },
    "formattedRanges": [],
    "deepnote_cell_type": "text-cell-h1"
   }
  },
  {
   "cell_type": "markdown",
   "source": "![Picture title](image-20220814-045127.png)",
   "metadata": {
    "cell_id": "1e5547ba60254726ad4607d63e9c0849",
    "tags": [],
    "deepnote_app_coordinates": {
     "x": 0,
     "y": 0,
     "w": 12,
     "h": 5
    },
    "deepnote_cell_type": "markdown",
    "deepnote_cell_height": 70
   }
  },
  {
   "cell_type": "markdown",
   "source": "### About the dataset\nSuppose we have the customer informatiomn in the membership cards of a supermarket mall. The goal of the analysis is to understand customer behaviors, so that the sense can be given to marketing team and plan the strategy accordingly.\n\nThe dataset have 5 attributes: Customer ID, age, gender, annual income and spending score (defined parameters like customer behavior and purchasing data)\nlink : https://www.kaggle.com/datasets/vjchoudhary7/customer-segmentation-tutorial-in-python\n### Workflow :\n1. Loading data\n2. Data exlporation\n3. Train/ test split\n4. Prepare the data\n5. Principal Component Analysis (PCA)\n6. K-means clustring\n7. Pipeline\n8. Validate with test data\n",
   "metadata": {
    "cell_id": "ce6350108ed748899d6b8ec76beed15a",
    "tags": [],
    "deepnote_app_coordinates": {
     "x": 0,
     "y": 7,
     "w": 12,
     "h": 5
    },
    "deepnote_cell_type": "markdown",
    "deepnote_cell_height": 799.546875
   }
  },
  {
   "cell_type": "markdown",
   "source": "### Imports",
   "metadata": {
    "formattedRanges": [],
    "is_collapsed": false,
    "cell_id": "d4d97e27d63749cd82f481677dd89e10",
    "tags": [],
    "deepnote_app_coordinates": {
     "x": 0,
     "y": 13,
     "w": 12,
     "h": 5
    },
    "deepnote_cell_type": "text-cell-h3"
   }
  },
  {
   "cell_type": "code",
   "source": "import numpy as np\nimport pandas as pd\nimport matplotlib.pyplot as plt\nimport plotly.express as px\nimport seaborn as sns\nfrom sklearn.cluster import KMeans\nfrom sklearn.model_selection import train_test_split\nfrom sklearn.pipeline import make_pipeline   \nfrom sklearn.preprocessing import StandardScaler\nfrom sklearn.decomposition import PCA\nfrom sklearn.preprocessing import LabelEncoder",
   "metadata": {
    "tags": [],
    "cell_id": "09d71562-7bc6-43ed-8c60-3556618d9e3e",
    "deepnote_to_be_reexecuted": false,
    "source_hash": "eb3c066",
    "execution_start": 1660449140351,
    "execution_millis": 3489,
    "deepnote_app_coordinates": {
     "x": 0,
     "y": 19,
     "w": 12,
     "h": 5
    },
    "deepnote_cell_type": "code",
    "deepnote_cell_height": 256
   },
   "execution_count": 1,
   "outputs": []
  },
  {
   "cell_type": "markdown",
   "source": "### Loading data ",
   "metadata": {
    "formattedRanges": [],
    "is_collapsed": false,
    "cell_id": "56474fe3f3cd457097aefb37cef94618",
    "tags": [],
    "deepnote_app_coordinates": {
     "x": 0,
     "y": 25,
     "w": 12,
     "h": 5
    },
    "deepnote_cell_type": "text-cell-h3"
   }
  },
  {
   "cell_type": "code",
   "metadata": {
    "cell_id": "3fac5fb9ff7a4df8a07431ad8fb24653",
    "tags": [],
    "deepnote_to_be_reexecuted": false,
    "source_hash": "1331a426",
    "execution_start": 1660449143872,
    "execution_millis": 47,
    "deepnote_app_coordinates": {
     "x": 0,
     "y": 31,
     "w": 12,
     "h": 5
    },
    "deepnote_cell_type": "code",
    "deepnote_cell_height": 76
   },
   "source": "data_df=pd.read_csv('/work/Mall_Customers.csv')",
   "execution_count": 2,
   "outputs": []
  },
  {
   "cell_type": "code",
   "metadata": {
    "cell_id": "62e9b38f84d7487d968a82135e64ed81",
    "tags": [],
    "deepnote_to_be_reexecuted": false,
    "source_hash": "dac68dde",
    "execution_start": 1660449143919,
    "execution_millis": 43,
    "deepnote_app_coordinates": {
     "x": 0,
     "y": 37,
     "w": 12,
     "h": 5
    },
    "deepnote_cell_type": "code",
    "deepnote_cell_height": 429
   },
   "source": "data_df.head()",
   "execution_count": 3,
   "outputs": [
    {
     "output_type": "execute_result",
     "execution_count": 3,
     "data": {
      "application/vnd.deepnote.dataframe.v3+json": {
       "column_count": 5,
       "row_count": 5,
       "columns": [
        {
         "name": "CustomerID",
         "dtype": "int64",
         "stats": {
          "unique_count": 5,
          "nan_count": 0,
          "min": "1",
          "max": "5",
          "histogram": [
           {
            "bin_start": 1,
            "bin_end": 1.4,
            "count": 1
           },
           {
            "bin_start": 1.4,
            "bin_end": 1.8,
            "count": 0
           },
           {
            "bin_start": 1.8,
            "bin_end": 2.2,
            "count": 1
           },
           {
            "bin_start": 2.2,
            "bin_end": 2.6,
            "count": 0
           },
           {
            "bin_start": 2.6,
            "bin_end": 3,
            "count": 0
           },
           {
            "bin_start": 3,
            "bin_end": 3.4000000000000004,
            "count": 1
           },
           {
            "bin_start": 3.4000000000000004,
            "bin_end": 3.8000000000000003,
            "count": 0
           },
           {
            "bin_start": 3.8000000000000003,
            "bin_end": 4.2,
            "count": 1
           },
           {
            "bin_start": 4.2,
            "bin_end": 4.6,
            "count": 0
           },
           {
            "bin_start": 4.6,
            "bin_end": 5,
            "count": 1
           }
          ]
         }
        },
        {
         "name": "Gender",
         "dtype": "object",
         "stats": {
          "unique_count": 2,
          "nan_count": 0,
          "categories": [
           {
            "name": "Female",
            "count": 3
           },
           {
            "name": "Male",
            "count": 2
           }
          ]
         }
        },
        {
         "name": "Age",
         "dtype": "int64",
         "stats": {
          "unique_count": 5,
          "nan_count": 0,
          "min": "19",
          "max": "31",
          "histogram": [
           {
            "bin_start": 19,
            "bin_end": 20.2,
            "count": 2
           },
           {
            "bin_start": 20.2,
            "bin_end": 21.4,
            "count": 1
           },
           {
            "bin_start": 21.4,
            "bin_end": 22.6,
            "count": 0
           },
           {
            "bin_start": 22.6,
            "bin_end": 23.8,
            "count": 1
           },
           {
            "bin_start": 23.8,
            "bin_end": 25,
            "count": 0
           },
           {
            "bin_start": 25,
            "bin_end": 26.2,
            "count": 0
           },
           {
            "bin_start": 26.2,
            "bin_end": 27.4,
            "count": 0
           },
           {
            "bin_start": 27.4,
            "bin_end": 28.6,
            "count": 0
           },
           {
            "bin_start": 28.6,
            "bin_end": 29.799999999999997,
            "count": 0
           },
           {
            "bin_start": 29.799999999999997,
            "bin_end": 31,
            "count": 1
           }
          ]
         }
        },
        {
         "name": "Annual Income (k$)",
         "dtype": "int64",
         "stats": {
          "unique_count": 3,
          "nan_count": 0,
          "min": "15",
          "max": "17",
          "histogram": [
           {
            "bin_start": 15,
            "bin_end": 15.2,
            "count": 2
           },
           {
            "bin_start": 15.2,
            "bin_end": 15.4,
            "count": 0
           },
           {
            "bin_start": 15.4,
            "bin_end": 15.6,
            "count": 0
           },
           {
            "bin_start": 15.6,
            "bin_end": 15.8,
            "count": 0
           },
           {
            "bin_start": 15.8,
            "bin_end": 16,
            "count": 0
           },
           {
            "bin_start": 16,
            "bin_end": 16.2,
            "count": 2
           },
           {
            "bin_start": 16.2,
            "bin_end": 16.4,
            "count": 0
           },
           {
            "bin_start": 16.4,
            "bin_end": 16.6,
            "count": 0
           },
           {
            "bin_start": 16.6,
            "bin_end": 16.8,
            "count": 0
           },
           {
            "bin_start": 16.8,
            "bin_end": 17,
            "count": 1
           }
          ]
         }
        },
        {
         "name": "Spending Score (1-100)",
         "dtype": "int64",
         "stats": {
          "unique_count": 5,
          "nan_count": 0,
          "min": "6",
          "max": "81",
          "histogram": [
           {
            "bin_start": 6,
            "bin_end": 13.5,
            "count": 1
           },
           {
            "bin_start": 13.5,
            "bin_end": 21,
            "count": 0
           },
           {
            "bin_start": 21,
            "bin_end": 28.5,
            "count": 0
           },
           {
            "bin_start": 28.5,
            "bin_end": 36,
            "count": 0
           },
           {
            "bin_start": 36,
            "bin_end": 43.5,
            "count": 2
           },
           {
            "bin_start": 43.5,
            "bin_end": 51,
            "count": 0
           },
           {
            "bin_start": 51,
            "bin_end": 58.5,
            "count": 0
           },
           {
            "bin_start": 58.5,
            "bin_end": 66,
            "count": 0
           },
           {
            "bin_start": 66,
            "bin_end": 73.5,
            "count": 0
           },
           {
            "bin_start": 73.5,
            "bin_end": 81,
            "count": 2
           }
          ]
         }
        },
        {
         "name": "_deepnote_index_column",
         "dtype": "int64"
        }
       ],
       "rows": [
        {
         "CustomerID": 1,
         "Gender": "Male",
         "Age": 19,
         "Annual Income (k$)": 15,
         "Spending Score (1-100)": 39,
         "_deepnote_index_column": 0
        },
        {
         "CustomerID": 2,
         "Gender": "Male",
         "Age": 21,
         "Annual Income (k$)": 15,
         "Spending Score (1-100)": 81,
         "_deepnote_index_column": 1
        },
        {
         "CustomerID": 3,
         "Gender": "Female",
         "Age": 20,
         "Annual Income (k$)": 16,
         "Spending Score (1-100)": 6,
         "_deepnote_index_column": 2
        },
        {
         "CustomerID": 4,
         "Gender": "Female",
         "Age": 23,
         "Annual Income (k$)": 16,
         "Spending Score (1-100)": 77,
         "_deepnote_index_column": 3
        },
        {
         "CustomerID": 5,
         "Gender": "Female",
         "Age": 31,
         "Annual Income (k$)": 17,
         "Spending Score (1-100)": 40,
         "_deepnote_index_column": 4
        }
       ]
      },
      "text/plain": "   CustomerID  Gender  Age  Annual Income (k$)  Spending Score (1-100)\n0           1    Male   19                  15                      39\n1           2    Male   21                  15                      81\n2           3  Female   20                  16                       6\n3           4  Female   23                  16                      77\n4           5  Female   31                  17                      40",
      "text/html": "<div>\n<style scoped>\n    .dataframe tbody tr th:only-of-type {\n        vertical-align: middle;\n    }\n\n    .dataframe tbody tr th {\n        vertical-align: top;\n    }\n\n    .dataframe thead th {\n        text-align: right;\n    }\n</style>\n<table border=\"1\" class=\"dataframe\">\n  <thead>\n    <tr style=\"text-align: right;\">\n      <th></th>\n      <th>CustomerID</th>\n      <th>Gender</th>\n      <th>Age</th>\n      <th>Annual Income (k$)</th>\n      <th>Spending Score (1-100)</th>\n    </tr>\n  </thead>\n  <tbody>\n    <tr>\n      <th>0</th>\n      <td>1</td>\n      <td>Male</td>\n      <td>19</td>\n      <td>15</td>\n      <td>39</td>\n    </tr>\n    <tr>\n      <th>1</th>\n      <td>2</td>\n      <td>Male</td>\n      <td>21</td>\n      <td>15</td>\n      <td>81</td>\n    </tr>\n    <tr>\n      <th>2</th>\n      <td>3</td>\n      <td>Female</td>\n      <td>20</td>\n      <td>16</td>\n      <td>6</td>\n    </tr>\n    <tr>\n      <th>3</th>\n      <td>4</td>\n      <td>Female</td>\n      <td>23</td>\n      <td>16</td>\n      <td>77</td>\n    </tr>\n    <tr>\n      <th>4</th>\n      <td>5</td>\n      <td>Female</td>\n      <td>31</td>\n      <td>17</td>\n      <td>40</td>\n    </tr>\n  </tbody>\n</table>\n</div>"
     },
     "metadata": {}
    }
   ]
  },
  {
   "cell_type": "code",
   "metadata": {
    "cell_id": "bce3ee522d29442faca0dbcc0f34af4e",
    "tags": [],
    "deepnote_to_be_reexecuted": false,
    "source_hash": "4b68926",
    "execution_start": 1660449143963,
    "execution_millis": 38,
    "deepnote_app_coordinates": {
     "x": 0,
     "y": 43,
     "w": 12,
     "h": 5
    },
    "deepnote_cell_type": "code",
    "deepnote_cell_height": 392
   },
   "source": "print(data_df.shape)\nprint(data_df.info())",
   "execution_count": 4,
   "outputs": [
    {
     "name": "stdout",
     "text": "(200, 5)\n<class 'pandas.core.frame.DataFrame'>\nRangeIndex: 200 entries, 0 to 199\nData columns (total 5 columns):\n #   Column                  Non-Null Count  Dtype \n---  ------                  --------------  ----- \n 0   CustomerID              200 non-null    int64 \n 1   Gender                  200 non-null    object\n 2   Age                     200 non-null    int64 \n 3   Annual Income (k$)      200 non-null    int64 \n 4   Spending Score (1-100)  200 non-null    int64 \ndtypes: int64(4), object(1)\nmemory usage: 7.9+ KB\nNone\n",
     "output_type": "stream"
    }
   ]
  },
  {
   "cell_type": "markdown",
   "source": "Cheking for missing data",
   "metadata": {
    "formattedRanges": [],
    "is_collapsed": false,
    "cell_id": "de1f5e1c23014a3a832d323ab7fbc2b2",
    "tags": [],
    "deepnote_app_coordinates": {
     "x": 0,
     "y": 49,
     "w": 8,
     "h": 2
    },
    "deepnote_cell_type": "text-cell-p"
   }
  },
  {
   "cell_type": "code",
   "metadata": {
    "cell_id": "e7c7c52ce55f408fa0dcf2b60995f9f0",
    "tags": [],
    "deepnote_to_be_reexecuted": false,
    "source_hash": "372ce7cb",
    "execution_start": 1660449144006,
    "execution_millis": 15,
    "deepnote_app_coordinates": {
     "x": 0,
     "y": 52,
     "w": 12,
     "h": 5
    },
    "deepnote_cell_type": "code",
    "deepnote_cell_height": 209.125,
    "deepnote_output_heights": [
     117.125
    ]
   },
   "source": "data_df.isnull().sum()",
   "execution_count": 5,
   "outputs": [
    {
     "output_type": "execute_result",
     "execution_count": 5,
     "data": {
      "text/plain": "CustomerID                0\nGender                    0\nAge                       0\nAnnual Income (k$)        0\nSpending Score (1-100)    0\ndtype: int64"
     },
     "metadata": {}
    }
   ]
  },
  {
   "cell_type": "markdown",
   "source": "droping column",
   "metadata": {
    "is_collapsed": false,
    "cell_id": "86dc622088a14977b7cb0e7230124b73",
    "tags": [],
    "deepnote_app_coordinates": {
     "x": 0,
     "y": 0,
     "w": 8,
     "h": 2
    },
    "formattedRanges": [],
    "deepnote_cell_type": "text-cell-p"
   }
  },
  {
   "cell_type": "code",
   "source": "# drop Customer id \ndata_df = data_df.drop('CustomerID', axis=1)\ndata_df.head(2)",
   "metadata": {
    "cell_id": "5c275b4857f0411cbf758edb3799331f",
    "tags": [],
    "deepnote_app_coordinates": {
     "x": 0,
     "y": 0,
     "w": 12,
     "h": 5
    },
    "deepnote_to_be_reexecuted": false,
    "source_hash": "c54d52a9",
    "execution_start": 1660449144024,
    "execution_millis": 35,
    "deepnote_cell_type": "code",
    "deepnote_cell_height": 342
   },
   "outputs": [
    {
     "output_type": "execute_result",
     "execution_count": 6,
     "data": {
      "application/vnd.deepnote.dataframe.v3+json": {
       "column_count": 4,
       "row_count": 2,
       "columns": [
        {
         "name": "Gender",
         "dtype": "object",
         "stats": {
          "unique_count": 1,
          "nan_count": 0,
          "categories": [
           {
            "name": "Male",
            "count": 2
           }
          ]
         }
        },
        {
         "name": "Age",
         "dtype": "int64",
         "stats": {
          "unique_count": 2,
          "nan_count": 0,
          "min": "19",
          "max": "21",
          "histogram": [
           {
            "bin_start": 19,
            "bin_end": 19.2,
            "count": 1
           },
           {
            "bin_start": 19.2,
            "bin_end": 19.4,
            "count": 0
           },
           {
            "bin_start": 19.4,
            "bin_end": 19.6,
            "count": 0
           },
           {
            "bin_start": 19.6,
            "bin_end": 19.8,
            "count": 0
           },
           {
            "bin_start": 19.8,
            "bin_end": 20,
            "count": 0
           },
           {
            "bin_start": 20,
            "bin_end": 20.2,
            "count": 0
           },
           {
            "bin_start": 20.2,
            "bin_end": 20.4,
            "count": 0
           },
           {
            "bin_start": 20.4,
            "bin_end": 20.6,
            "count": 0
           },
           {
            "bin_start": 20.6,
            "bin_end": 20.8,
            "count": 0
           },
           {
            "bin_start": 20.8,
            "bin_end": 21,
            "count": 1
           }
          ]
         }
        },
        {
         "name": "Annual Income (k$)",
         "dtype": "int64",
         "stats": {
          "unique_count": 1,
          "nan_count": 0,
          "min": "15",
          "max": "15",
          "histogram": [
           {
            "bin_start": 14.5,
            "bin_end": 14.6,
            "count": 0
           },
           {
            "bin_start": 14.6,
            "bin_end": 14.7,
            "count": 0
           },
           {
            "bin_start": 14.7,
            "bin_end": 14.8,
            "count": 0
           },
           {
            "bin_start": 14.8,
            "bin_end": 14.9,
            "count": 0
           },
           {
            "bin_start": 14.9,
            "bin_end": 15,
            "count": 0
           },
           {
            "bin_start": 15,
            "bin_end": 15.1,
            "count": 2
           },
           {
            "bin_start": 15.1,
            "bin_end": 15.2,
            "count": 0
           },
           {
            "bin_start": 15.2,
            "bin_end": 15.3,
            "count": 0
           },
           {
            "bin_start": 15.3,
            "bin_end": 15.4,
            "count": 0
           },
           {
            "bin_start": 15.4,
            "bin_end": 15.5,
            "count": 0
           }
          ]
         }
        },
        {
         "name": "Spending Score (1-100)",
         "dtype": "int64",
         "stats": {
          "unique_count": 2,
          "nan_count": 0,
          "min": "39",
          "max": "81",
          "histogram": [
           {
            "bin_start": 39,
            "bin_end": 43.2,
            "count": 1
           },
           {
            "bin_start": 43.2,
            "bin_end": 47.4,
            "count": 0
           },
           {
            "bin_start": 47.4,
            "bin_end": 51.6,
            "count": 0
           },
           {
            "bin_start": 51.6,
            "bin_end": 55.8,
            "count": 0
           },
           {
            "bin_start": 55.8,
            "bin_end": 60,
            "count": 0
           },
           {
            "bin_start": 60,
            "bin_end": 64.2,
            "count": 0
           },
           {
            "bin_start": 64.2,
            "bin_end": 68.4,
            "count": 0
           },
           {
            "bin_start": 68.4,
            "bin_end": 72.6,
            "count": 0
           },
           {
            "bin_start": 72.6,
            "bin_end": 76.80000000000001,
            "count": 0
           },
           {
            "bin_start": 76.80000000000001,
            "bin_end": 81,
            "count": 1
           }
          ]
         }
        },
        {
         "name": "_deepnote_index_column",
         "dtype": "int64"
        }
       ],
       "rows": [
        {
         "Gender": "Male",
         "Age": 19,
         "Annual Income (k$)": 15,
         "Spending Score (1-100)": 39,
         "_deepnote_index_column": 0
        },
        {
         "Gender": "Male",
         "Age": 21,
         "Annual Income (k$)": 15,
         "Spending Score (1-100)": 81,
         "_deepnote_index_column": 1
        }
       ]
      },
      "text/plain": "  Gender  Age  Annual Income (k$)  Spending Score (1-100)\n0   Male   19                  15                      39\n1   Male   21                  15                      81",
      "text/html": "<div>\n<style scoped>\n    .dataframe tbody tr th:only-of-type {\n        vertical-align: middle;\n    }\n\n    .dataframe tbody tr th {\n        vertical-align: top;\n    }\n\n    .dataframe thead th {\n        text-align: right;\n    }\n</style>\n<table border=\"1\" class=\"dataframe\">\n  <thead>\n    <tr style=\"text-align: right;\">\n      <th></th>\n      <th>Gender</th>\n      <th>Age</th>\n      <th>Annual Income (k$)</th>\n      <th>Spending Score (1-100)</th>\n    </tr>\n  </thead>\n  <tbody>\n    <tr>\n      <th>0</th>\n      <td>Male</td>\n      <td>19</td>\n      <td>15</td>\n      <td>39</td>\n    </tr>\n    <tr>\n      <th>1</th>\n      <td>Male</td>\n      <td>21</td>\n      <td>15</td>\n      <td>81</td>\n    </tr>\n  </tbody>\n</table>\n</div>"
     },
     "metadata": {}
    }
   ],
   "execution_count": 6
  },
  {
   "cell_type": "markdown",
   "source": "### Data exlporation",
   "metadata": {
    "formattedRanges": [],
    "is_collapsed": false,
    "cell_id": "17bd1332458a4b1999f6ec4d1923560a",
    "tags": [],
    "deepnote_app_coordinates": {
     "x": 0,
     "y": 58,
     "w": 12,
     "h": 5
    },
    "deepnote_cell_type": "text-cell-h3"
   }
  },
  {
   "cell_type": "code",
   "metadata": {
    "cell_id": "fa88a79c438d49a69b7d9121e497faa6",
    "tags": [],
    "deepnote_to_be_reexecuted": false,
    "source_hash": "79a87be4",
    "execution_start": 1660449144062,
    "execution_millis": 1187,
    "deepnote_app_coordinates": {
     "x": 0,
     "y": 64,
     "w": 12,
     "h": 5
    },
    "deepnote_cell_type": "code",
    "deepnote_cell_height": 634.15625,
    "deepnote_output_heights": [
     null,
     373.515625
    ]
   },
   "source": "plt.figure(1 , figsize = (15 , 6))\nn = 0 \nfor x in ['Age' , 'Annual Income (k$)' , 'Spending Score (1-100)']:\n    n += 1\n    plt.subplot(1 , 3 , n)\n    plt.subplots_adjust(hspace =0.5 , wspace = 0.5)\n    sns.distplot(data_df[x] , bins = 20)\n    plt.title('Distplot of {}'.format(x))\nplt.show()\n",
   "execution_count": 7,
   "outputs": [
    {
     "name": "stderr",
     "text": "/shared-libs/python3.9/py/lib/python3.9/site-packages/seaborn/distributions.py:2619: FutureWarning: `distplot` is a deprecated function and will be removed in a future version. Please adapt your code to use either `displot` (a figure-level function with similar flexibility) or `histplot` (an axes-level function for histograms).\n  warnings.warn(msg, FutureWarning)\n/shared-libs/python3.9/py/lib/python3.9/site-packages/seaborn/distributions.py:2619: FutureWarning: `distplot` is a deprecated function and will be removed in a future version. Please adapt your code to use either `displot` (a figure-level function with similar flexibility) or `histplot` (an axes-level function for histograms).\n  warnings.warn(msg, FutureWarning)\n/shared-libs/python3.9/py/lib/python3.9/site-packages/seaborn/distributions.py:2619: FutureWarning: `distplot` is a deprecated function and will be removed in a future version. Please adapt your code to use either `displot` (a figure-level function with similar flexibility) or `histplot` (an axes-level function for histograms).\n  warnings.warn(msg, FutureWarning)\n",
     "output_type": "stream"
    },
    {
     "data": {
      "text/plain": "<Figure size 1080x432 with 3 Axes>",
      "image/png": "[encoded data removed]"
     },
     "metadata": {
      "needs_background": "light",
      "image/png": {
       "width": 900,
       "height": 387
      }
     },
     "output_type": "display_data"
    }
   ]
  },
  {
   "cell_type": "markdown",
   "source": "=> Age groupe of 30-40 have the highest density\n=> Most of our custumors have an income of 50-80k$\n=> most of our customrs have a spending score of 50",
   "metadata": {
    "cell_id": "1fd9bb083a78439e9942951f3e466a2b",
    "tags": [],
    "deepnote_app_coordinates": {
     "x": 0,
     "y": 70,
     "w": 12,
     "h": 5
    },
    "deepnote_cell_type": "markdown",
    "deepnote_cell_height": 164.34375
   }
  },
  {
   "cell_type": "code",
   "metadata": {
    "cell_id": "2ff6187b2f504e4b897deb497f7bd62d",
    "tags": [],
    "deepnote_to_be_reexecuted": false,
    "source_hash": "9a58162d",
    "execution_start": 1660449145256,
    "execution_millis": 992,
    "deepnote_app_coordinates": {
     "x": 0,
     "y": 76,
     "w": 12,
     "h": 5
    },
    "deepnote_cell_type": "code",
    "deepnote_cell_height": 314.328125,
    "deepnote_output_heights": [
     303.625
    ]
   },
   "source": "plt.figure(1 , figsize = (15 , 5))\nsns.countplot(y = 'Gender' , data = data_df)\nplt.show()",
   "execution_count": 8,
   "outputs": [
    {
     "data": {
      "text/plain": "<Figure size 1080x360 with 1 Axes>",
      "image/png": "[encoded data removed]"
     },
     "metadata": {
      "needs_background": "light",
      "image/png": {
       "width": 908,
       "height": 317
      }
     },
     "output_type": "display_data"
    }
   ]
  },
  {
   "cell_type": "markdown",
   "source": "=> 20% more of our customrs are female",
   "metadata": {
    "cell_id": "74ec01f824bf4198a9fda976f9870b21",
    "tags": [],
    "deepnote_app_coordinates": {
     "x": 0,
     "y": 82,
     "w": 12,
     "h": 5
    },
    "deepnote_cell_type": "markdown",
    "deepnote_cell_height": 74.78125
   }
  },
  {
   "cell_type": "code",
   "metadata": {
    "cell_id": "3d30e15dc8294075bdf3e4d6d41a1bd4",
    "tags": [],
    "deepnote_to_be_reexecuted": false,
    "source_hash": "f27d8afe",
    "execution_start": 1660449145445,
    "execution_millis": 4089,
    "deepnote_app_coordinates": {
     "x": 0,
     "y": 88,
     "w": 12,
     "h": 5
    },
    "deepnote_cell_type": "code",
    "deepnote_cell_height": 510,
    "deepnote_output_heights": [
     417.421875,
     239.90625
    ]
   },
   "source": "plt.figure(1 , figsize = (15 , 7))\nn = 0 \nfor x in ['Age' , 'Annual Income (k$)' , 'Spending Score (1-100)']:\n    for y in ['Age' , 'Annual Income (k$)' , 'Spending Score (1-100)']:\n        n += 1\n        plt.subplot(3 , 3 , n)\n        plt.subplots_adjust(hspace = 0.5 , wspace = 0.5)\n        sns.regplot(x = x , y = y , data = data_df)\n        plt.ylabel(y.split()[0]+' '+y.split()[1] if len(y.split()) > 1 else y )\nplt.show()",
   "execution_count": 9,
   "outputs": [
    {
     "data": {
      "text/plain": "<Figure size 1080x504 with 9 Axes>",
      "image/png": "[encoded data removed]"
     },
     "metadata": {
      "needs_background": "light",
      "image/png": {
       "width": 886,
       "height": 426
      }
     },
     "output_type": "display_data"
    }
   ]
  },
  {
   "cell_type": "markdown",
   "source": "* Age Vs Annual income\n=> 30-60 years old customers have relatively higher annual income\n* Age Vs spending score\n=> Under 40 years old customers have score over 60\n* Annula income vs Spending score\n=> We can see 5 blobs, there is no relation between the customers having annual income in the range of 20-40k and 80-140k but there is relation between customers who have annual income in the range of 40-60k.",
   "metadata": {
    "cell_id": "51ed9c9e50a648c28c275db4a0f5774c",
    "tags": [],
    "deepnote_app_coordinates": {
     "x": 0,
     "y": 94,
     "w": 12,
     "h": 5
    },
    "deepnote_cell_type": "markdown",
    "deepnote_cell_height": 461.25
   }
  },
  {
   "cell_type": "markdown",
   "source": "### Train/ test split",
   "metadata": {
    "is_collapsed": false,
    "cell_id": "c8ff5abbf20b400eb720200bdf35c3ac",
    "tags": [],
    "deepnote_app_coordinates": {
     "x": 0,
     "y": 0,
     "w": 12,
     "h": 5
    },
    "formattedRanges": [],
    "deepnote_cell_type": "text-cell-h3"
   }
  },
  {
   "cell_type": "code",
   "source": "train_X, test_X = train_test_split(data_df, test_size=0.2, random_state=42)\n\nprint(len(train_X), \"train +\", len(test_X), \"test\")",
   "metadata": {
    "cell_id": "517b8c24f641463b8fde7d07d3efabae",
    "tags": [],
    "deepnote_app_coordinates": {
     "x": 0,
     "y": 0,
     "w": 12,
     "h": 5
    },
    "deepnote_to_be_reexecuted": false,
    "source_hash": "eb178679",
    "execution_start": 1660449149550,
    "execution_millis": 1,
    "deepnote_cell_type": "code",
    "deepnote_cell_height": 143.1875
   },
   "outputs": [
    {
     "name": "stdout",
     "text": "160 train + 40 test\n",
     "output_type": "stream"
    }
   ],
   "execution_count": 10
  },
  {
   "cell_type": "code",
   "source": "# lets take copy of the data \ndf = train_X.copy()",
   "metadata": {
    "cell_id": "e937a3fcc20b443bb5b29d58889a8f06",
    "tags": [],
    "deepnote_app_coordinates": {
     "x": 0,
     "y": 0,
     "w": 12,
     "h": 5
    },
    "deepnote_to_be_reexecuted": false,
    "source_hash": "676d8da9",
    "execution_start": 1660449149568,
    "execution_millis": 392910,
    "deepnote_cell_type": "code",
    "deepnote_cell_height": 94
   },
   "outputs": [],
   "execution_count": 11
  },
  {
   "cell_type": "markdown",
   "source": "### Prepare the data",
   "metadata": {
    "is_collapsed": false,
    "cell_id": "5d60a27848a04b698fee6029d0cfc8a9",
    "tags": [],
    "deepnote_app_coordinates": {
     "x": 0,
     "y": 0,
     "w": 12,
     "h": 5
    },
    "formattedRanges": [],
    "deepnote_cell_type": "text-cell-h3"
   }
  },
  {
   "cell_type": "markdown",
   "source": "The following stages are:\n\n1. Preprocessing.LabelEncoder() -normalize labels so they contain values between 0 and 1\n2. StandardScaler - scaling to unit variance (ie Normalizing the data)\n3. Principal Component analysis(PCA)- is an unsupervised statistical technique that is used for dimensionality reduction.\n4. Feature selection.",
   "metadata": {
    "cell_id": "606b13ffb6f345d8846a93148f4816da",
    "tags": [],
    "deepnote_app_coordinates": {
     "x": 0,
     "y": 0,
     "w": 12,
     "h": 5
    },
    "deepnote_cell_type": "markdown",
    "deepnote_cell_height": 358.078125
   }
  },
  {
   "cell_type": "markdown",
   "source": "<b> label encoder </b>",
   "metadata": {
    "cell_id": "f20d62c3384048948e53cfb056abcc90",
    "tags": [],
    "deepnote_app_coordinates": {
     "x": 0,
     "y": 0,
     "w": 12,
     "h": 5
    },
    "deepnote_cell_type": "markdown",
    "deepnote_cell_height": 52.390625
   }
  },
  {
   "cell_type": "code",
   "source": "# Let fit and transform the Gender attribute into numeric\nle = LabelEncoder()\nle.fit(df.Gender)\ndf.loc[:,'Gender'] = le.transform(df.Gender)\ndf.head(3)",
   "metadata": {
    "cell_id": "db5c7e4719764bf6b0dbe5be68f0876b",
    "tags": [],
    "deepnote_app_coordinates": {
     "x": 0,
     "y": 0,
     "w": 12,
     "h": 5
    },
    "deepnote_to_be_reexecuted": false,
    "source_hash": "dfeb4e90",
    "execution_start": 1660449149598,
    "execution_millis": 19,
    "deepnote_cell_type": "code",
    "deepnote_cell_height": 419
   },
   "outputs": [
    {
     "output_type": "execute_result",
     "execution_count": 12,
     "data": {
      "application/vnd.deepnote.dataframe.v3+json": {
       "column_count": 4,
       "row_count": 3,
       "columns": [
        {
         "name": "Gender",
         "dtype": "int64",
         "stats": {
          "unique_count": 2,
          "nan_count": 0,
          "min": "0",
          "max": "1",
          "histogram": [
           {
            "bin_start": 0,
            "bin_end": 0.1,
            "count": 2
           },
           {
            "bin_start": 0.1,
            "bin_end": 0.2,
            "count": 0
           },
           {
            "bin_start": 0.2,
            "bin_end": 0.30000000000000004,
            "count": 0
           },
           {
            "bin_start": 0.30000000000000004,
            "bin_end": 0.4,
            "count": 0
           },
           {
            "bin_start": 0.4,
            "bin_end": 0.5,
            "count": 0
           },
           {
            "bin_start": 0.5,
            "bin_end": 0.6000000000000001,
            "count": 0
           },
           {
            "bin_start": 0.6000000000000001,
            "bin_end": 0.7000000000000001,
            "count": 0
           },
           {
            "bin_start": 0.7000000000000001,
            "bin_end": 0.8,
            "count": 0
           },
           {
            "bin_start": 0.8,
            "bin_end": 0.9,
            "count": 0
           },
           {
            "bin_start": 0.9,
            "bin_end": 1,
            "count": 1
           }
          ]
         }
        },
        {
         "name": "Age",
         "dtype": "int64",
         "stats": {
          "unique_count": 3,
          "nan_count": 0,
          "min": "32",
          "max": "49",
          "histogram": [
           {
            "bin_start": 32,
            "bin_end": 33.7,
            "count": 1
           },
           {
            "bin_start": 33.7,
            "bin_end": 35.4,
            "count": 0
           },
           {
            "bin_start": 35.4,
            "bin_end": 37.1,
            "count": 1
           },
           {
            "bin_start": 37.1,
            "bin_end": 38.8,
            "count": 0
           },
           {
            "bin_start": 38.8,
            "bin_end": 40.5,
            "count": 0
           },
           {
            "bin_start": 40.5,
            "bin_end": 42.2,
            "count": 0
           },
           {
            "bin_start": 42.2,
            "bin_end": 43.9,
            "count": 0
           },
           {
            "bin_start": 43.9,
            "bin_end": 45.6,
            "count": 0
           },
           {
            "bin_start": 45.6,
            "bin_end": 47.3,
            "count": 0
           },
           {
            "bin_start": 47.3,
            "bin_end": 49,
            "count": 1
           }
          ]
         }
        },
        {
         "name": "Annual Income (k$)",
         "dtype": "int64",
         "stats": {
          "unique_count": 3,
          "nan_count": 0,
          "min": "37",
          "max": "126",
          "histogram": [
           {
            "bin_start": 37,
            "bin_end": 45.9,
            "count": 1
           },
           {
            "bin_start": 45.9,
            "bin_end": 54.8,
            "count": 1
           },
           {
            "bin_start": 54.8,
            "bin_end": 63.7,
            "count": 0
           },
           {
            "bin_start": 63.7,
            "bin_end": 72.6,
            "count": 0
           },
           {
            "bin_start": 72.6,
            "bin_end": 81.5,
            "count": 0
           },
           {
            "bin_start": 81.5,
            "bin_end": 90.4,
            "count": 0
           },
           {
            "bin_start": 90.4,
            "bin_end": 99.30000000000001,
            "count": 0
           },
           {
            "bin_start": 99.30000000000001,
            "bin_end": 108.2,
            "count": 0
           },
           {
            "bin_start": 108.2,
            "bin_end": 117.10000000000001,
            "count": 0
           },
           {
            "bin_start": 117.10000000000001,
            "bin_end": 126,
            "count": 1
           }
          ]
         }
        },
        {
         "name": "Spending Score (1-100)",
         "dtype": "int64",
         "stats": {
          "unique_count": 3,
          "nan_count": 0,
          "min": "26",
          "max": "74",
          "histogram": [
           {
            "bin_start": 26,
            "bin_end": 30.8,
            "count": 1
           },
           {
            "bin_start": 30.8,
            "bin_end": 35.6,
            "count": 0
           },
           {
            "bin_start": 35.6,
            "bin_end": 40.4,
            "count": 0
           },
           {
            "bin_start": 40.4,
            "bin_end": 45.2,
            "count": 1
           },
           {
            "bin_start": 45.2,
            "bin_end": 50,
            "count": 0
           },
           {
            "bin_start": 50,
            "bin_end": 54.8,
            "count": 0
           },
           {
            "bin_start": 54.8,
            "bin_end": 59.6,
            "count": 0
           },
           {
            "bin_start": 59.6,
            "bin_end": 64.4,
            "count": 0
           },
           {
            "bin_start": 64.4,
            "bin_end": 69.19999999999999,
            "count": 0
           },
           {
            "bin_start": 69.19999999999999,
            "bin_end": 74,
            "count": 1
           }
          ]
         }
        },
        {
         "name": "_deepnote_index_column",
         "dtype": "int64"
        }
       ],
       "rows": [
        {
         "Gender": 0,
         "Age": 49,
         "Annual Income (k$)": 54,
         "Spending Score (1-100)": 42,
         "_deepnote_index_column": 79
        },
        {
         "Gender": 1,
         "Age": 32,
         "Annual Income (k$)": 126,
         "Spending Score (1-100)": 74,
         "_deepnote_index_column": 197
        },
        {
         "Gender": 0,
         "Age": 36,
         "Annual Income (k$)": 37,
         "Spending Score (1-100)": 26,
         "_deepnote_index_column": 38
        }
       ]
      },
      "text/plain": "     Gender  Age  Annual Income (k$)  Spending Score (1-100)\n79        0   49                  54                      42\n197       1   32                 126                      74\n38        0   36                  37                      26",
      "text/html": "<div>\n<style scoped>\n    .dataframe tbody tr th:only-of-type {\n        vertical-align: middle;\n    }\n\n    .dataframe tbody tr th {\n        vertical-align: top;\n    }\n\n    .dataframe thead th {\n        text-align: right;\n    }\n</style>\n<table border=\"1\" class=\"dataframe\">\n  <thead>\n    <tr style=\"text-align: right;\">\n      <th></th>\n      <th>Gender</th>\n      <th>Age</th>\n      <th>Annual Income (k$)</th>\n      <th>Spending Score (1-100)</th>\n    </tr>\n  </thead>\n  <tbody>\n    <tr>\n      <th>79</th>\n      <td>0</td>\n      <td>49</td>\n      <td>54</td>\n      <td>42</td>\n    </tr>\n    <tr>\n      <th>197</th>\n      <td>1</td>\n      <td>32</td>\n      <td>126</td>\n      <td>74</td>\n    </tr>\n    <tr>\n      <th>38</th>\n      <td>0</td>\n      <td>36</td>\n      <td>37</td>\n      <td>26</td>\n    </tr>\n  </tbody>\n</table>\n</div>"
     },
     "metadata": {}
    }
   ],
   "execution_count": 12
  },
  {
   "cell_type": "markdown",
   "source": "<b>StandardScaler</b>",
   "metadata": {
    "cell_id": "b79eb8a791e04be1939cfbe1df4accf0",
    "tags": [],
    "deepnote_app_coordinates": {
     "x": 0,
     "y": 0,
     "w": 12,
     "h": 5
    },
    "deepnote_cell_type": "markdown",
    "deepnote_cell_height": 52.390625
   }
  },
  {
   "cell_type": "code",
   "source": "# Create scaler: scaler\nscaler = StandardScaler()\nscaler.fit(df)\n# transform\ndata_scaled = scaler.transform(df)\ndata_scaled[0]",
   "metadata": {
    "cell_id": "2a69d167b7ef47aca7d274faef1d1ba5",
    "tags": [],
    "deepnote_app_coordinates": {
     "x": 0,
     "y": 0,
     "w": 12,
     "h": 5
    },
    "deepnote_to_be_reexecuted": false,
    "source_hash": "4de36550",
    "execution_start": 1660449149621,
    "execution_millis": 20,
    "deepnote_cell_type": "code",
    "deepnote_cell_height": 182,
    "deepnote_output_heights": [
     21.1875
    ]
   },
   "outputs": [
    {
     "output_type": "execute_result",
     "execution_count": 13,
     "data": {
      "text/plain": "array([-0.87077078,  0.73027906, -0.24190423, -0.37113766])"
     },
     "metadata": {}
    }
   ],
   "execution_count": 13
  },
  {
   "cell_type": "markdown",
   "source": "### Principal Component Analysis (PCA)",
   "metadata": {
    "is_collapsed": false,
    "cell_id": "d824e131161f47f3a7c8fa6fc5e99635",
    "tags": [],
    "deepnote_app_coordinates": {
     "x": 0,
     "y": 0,
     "w": 12,
     "h": 5
    },
    "formattedRanges": [],
    "deepnote_cell_type": "text-cell-h3"
   }
  },
  {
   "cell_type": "code",
   "source": "pca = PCA()\n\n# fit PCA\npca.fit(data_scaled)\n# PCA features\nfeatures = range(pca.n_components_)\n# PCA transformed data\ndata_pca = pca.transform(data_scaled)\npca.explained_variance_ratio_",
   "metadata": {
    "cell_id": "5b1aee2540fa4336a7df4a2e40baea83",
    "tags": [],
    "deepnote_app_coordinates": {
     "x": 0,
     "y": 0,
     "w": 12,
     "h": 5
    },
    "deepnote_to_be_reexecuted": false,
    "source_hash": "ff59dc1",
    "execution_start": 1660449149646,
    "execution_millis": 14,
    "deepnote_cell_type": "code",
    "deepnote_cell_height": 236,
    "deepnote_output_heights": [
     21.1875
    ]
   },
   "outputs": [
    {
     "output_type": "execute_result",
     "execution_count": 14,
     "data": {
      "text/plain": "array([0.33107688, 0.26720006, 0.22991261, 0.17181045])"
     },
     "metadata": {}
    }
   ],
   "execution_count": 14
  },
  {
   "cell_type": "code",
   "source": "plt.bar(features, pca.explained_variance_ratio_)\nplt.xticks(features)\nplt.ylabel('variance')\nplt.xlabel('PCA feature')\nplt.show()",
   "metadata": {
    "cell_id": "74f827aa6c734120ba9cabeb965c4894",
    "tags": [],
    "deepnote_app_coordinates": {
     "x": 0,
     "y": 0,
     "w": 12,
     "h": 5
    },
    "deepnote_to_be_reexecuted": false,
    "source_hash": "ca614c3b",
    "execution_start": 1660449149666,
    "execution_millis": 404,
    "deepnote_cell_type": "code",
    "deepnote_cell_height": 164,
    "deepnote_output_heights": [
     264
    ]
   },
   "outputs": [
    {
     "data": {
      "text/plain": "<Figure size 432x288 with 1 Axes>",
      "image/png": "[encoded data removed]"
     },
     "metadata": {
      "needs_background": "light",
      "image/png": {
       "width": 392,
       "height": 262
      }
     },
     "output_type": "display_data"
    }
   ],
   "execution_count": 15
  },
  {
   "cell_type": "markdown",
   "source": "=> as we can see 33.1% of the data corresponds to the first axis and 26.8% corresponds to the seconds we will work with 2 insintric dimensions (number of PCA features needed to approximate the dataset)",
   "metadata": {
    "cell_id": "94b363502d3c416eb40e2651e637a24c",
    "tags": [],
    "deepnote_app_coordinates": {
     "x": 0,
     "y": 0,
     "w": 12,
     "h": 5
    },
    "deepnote_cell_type": "markdown",
    "deepnote_cell_height": 186.734375
   }
  },
  {
   "cell_type": "code",
   "source": "# Principal component analysis (PCA) and singular value decomposition (SVD) \n# PCA and SVD are closely related approaches and can be both applied to decompose any rectangular matrices.\npca2 = PCA(n_components=2, svd_solver='full')\n# fit PCA\npca2.fit(data_scaled)\n\n# PCA transformed data\ndata_pca2 = pca2.transform(data_scaled)\nprint(data_pca2.shape)",
   "metadata": {
    "cell_id": "e1cc0184a85e40b0aa9f8b94dd183d15",
    "tags": [],
    "deepnote_app_coordinates": {
     "x": 0,
     "y": 0,
     "w": 12,
     "h": 5
    },
    "deepnote_to_be_reexecuted": false,
    "source_hash": "be7a7a80",
    "execution_start": 1660449150100,
    "execution_millis": 17,
    "deepnote_cell_type": "code",
    "deepnote_cell_height": 251.1875,
    "deepnote_output_heights": [
     280,
     280
    ]
   },
   "outputs": [
    {
     "name": "stdout",
     "text": "(160, 2)\n",
     "output_type": "stream"
    }
   ],
   "execution_count": 16
  },
  {
   "cell_type": "code",
   "source": "xs = data_pca2[:,0]\nys = data_pca2[:,1]\nplt.scatter(ys, xs)\n\nplt.grid(False)\nplt.title('Scatter Plot of Customers data')\nplt.xlabel('PCA-01')\nplt.ylabel('PCA-02')\n\nplt.show()",
   "metadata": {
    "cell_id": "8d41b5a380f34555a0af35858d63b42c",
    "tags": [],
    "deepnote_app_coordinates": {
     "x": 0,
     "y": 0,
     "w": 12,
     "h": 5
    },
    "deepnote_to_be_reexecuted": false,
    "source_hash": "e6abb4af",
    "execution_start": 1660449150131,
    "execution_millis": 330,
    "deepnote_cell_type": "code",
    "deepnote_cell_height": 254,
    "deepnote_output_heights": [
     280,
     250
    ]
   },
   "outputs": [
    {
     "data": {
      "text/plain": "<Figure size 432x288 with 1 Axes>",
      "image/png": "[encoded data removed]"
     },
     "metadata": {
      "needs_background": "light",
      "image/png": {
       "width": 384,
       "height": 278
      }
     },
     "output_type": "display_data"
    }
   ],
   "execution_count": 17
  },
  {
   "cell_type": "markdown",
   "source": "### Determine the number of K-means clusters needed",
   "metadata": {
    "is_collapsed": false,
    "cell_id": "7ce01dd58eea47eba25bc4c694d2bff9",
    "tags": [],
    "deepnote_app_coordinates": {
     "x": 0,
     "y": 100,
     "w": 12,
     "h": 5
    },
    "formattedRanges": [],
    "deepnote_cell_type": "text-cell-h3"
   }
  },
  {
   "cell_type": "code",
   "source": "#  finding elbow value for different number of clusters.\nX = data_pca2\ninertia = []\nfor n in range(1 , 11):\n    algorithm = (KMeans(n_clusters = n ,init='k-means++',random_state= 42 ) )\n    algorithm.fit(X)\n    inertia.append(algorithm.inertia_)    ",
   "metadata": {
    "cell_id": "07f2e70f7d664cad864b749e7514dd5b",
    "tags": [],
    "deepnote_to_be_reexecuted": false,
    "source_hash": "5c53e902",
    "execution_start": 1660449150465,
    "execution_millis": 1830,
    "deepnote_app_coordinates": {
     "x": 0,
     "y": 106,
     "w": 12,
     "h": 5
    },
    "deepnote_cell_type": "code",
    "deepnote_cell_height": 184
   },
   "execution_count": 18,
   "outputs": []
  },
  {
   "cell_type": "code",
   "metadata": {
    "cell_id": "8884ff7ae8dd451ebf7b8e6167461471",
    "tags": [],
    "deepnote_to_be_reexecuted": false,
    "source_hash": "1e00b81d",
    "execution_start": 1660449152312,
    "execution_millis": 311,
    "deepnote_app_coordinates": {
     "x": 0,
     "y": 112,
     "w": 12,
     "h": 5
    },
    "deepnote_cell_type": "code",
    "deepnote_cell_height": 381.25,
    "deepnote_output_heights": [
     365.625
    ]
   },
   "source": "plt.figure(1 , figsize = (15 ,6))\nplt.plot(np.arange(1 , 11) , inertia , 'o')\nplt.plot(np.arange(1 , 11) , inertia , '-' , alpha = 0.5)\nplt.xlabel('Number of Clusters') , plt.ylabel('Inertia')\nplt.show()",
   "execution_count": 19,
   "outputs": [
    {
     "data": {
      "text/plain": "<Figure size 1080x432 with 1 Axes>",
      "image/png": "[encoded data removed]"
     },
     "metadata": {
      "needs_background": "light",
      "image/png": {
       "width": 891,
       "height": 375
      }
     },
     "output_type": "display_data"
    }
   ]
  },
  {
   "cell_type": "markdown",
   "source": "=> the elbow point appears to be 5",
   "metadata": {
    "cell_id": "ebb77a4c1f63422d87ac2cdac65f96ec",
    "tags": [],
    "deepnote_app_coordinates": {
     "x": 0,
     "y": 118,
     "w": 12,
     "h": 5
    },
    "deepnote_cell_type": "markdown",
    "deepnote_cell_height": 74.78125
   }
  },
  {
   "cell_type": "markdown",
   "source": "### K-means clustring",
   "metadata": {
    "is_collapsed": false,
    "cell_id": "e470a17c64934c1db5de37875de9f8c9",
    "tags": [],
    "deepnote_app_coordinates": {
     "x": 0,
     "y": 124,
     "w": 12,
     "h": 5
    },
    "formattedRanges": [],
    "deepnote_cell_type": "text-cell-h3"
   }
  },
  {
   "cell_type": "code",
   "source": "# KMeans model\n# 5 clusters to start with\nkmeans = KMeans(n_clusters=5, init='k-means++', random_state=0)",
   "metadata": {
    "cell_id": "af913940990e4ab29fba82b7545e9c2d",
    "tags": [],
    "deepnote_app_coordinates": {
     "x": 0,
     "y": 0,
     "w": 12,
     "h": 5
    },
    "deepnote_to_be_reexecuted": false,
    "source_hash": "2acc507c",
    "execution_start": 1660449152629,
    "execution_millis": 5,
    "deepnote_cell_type": "code",
    "deepnote_cell_height": 112
   },
   "outputs": [],
   "execution_count": 20
  },
  {
   "cell_type": "markdown",
   "source": "### Pipeline",
   "metadata": {
    "is_collapsed": false,
    "cell_id": "4a4aac9ed2cd448091f06c32052e9c5a",
    "tags": [],
    "deepnote_app_coordinates": {
     "x": 0,
     "y": 0,
     "w": 12,
     "h": 5
    },
    "formattedRanges": [],
    "deepnote_cell_type": "text-cell-h3"
   }
  },
  {
   "cell_type": "code",
   "source": "# Build pipeline\npipeline = make_pipeline(scaler, pca2, kmeans)\n# fit the model to the scaled dataset\nmodel_fit = pipeline.fit(df)\nmodel_fit",
   "metadata": {
    "cell_id": "bd0f72fe7b0642388c21dd3500d85616",
    "tags": [],
    "deepnote_app_coordinates": {
     "x": 0,
     "y": 0,
     "w": 12,
     "h": 5
    },
    "deepnote_to_be_reexecuted": false,
    "source_hash": "ca1d4422",
    "execution_start": 1660449152642,
    "execution_millis": 275,
    "deepnote_cell_type": "code",
    "deepnote_cell_height": 164,
    "deepnote_output_heights": [
     139.5
    ]
   },
   "outputs": [
    {
     "output_type": "execute_result",
     "execution_count": 21,
     "data": {
      "text/plain": "Pipeline(steps=[('standardscaler', StandardScaler()),\n                ('pca', PCA(n_components=2, svd_solver='full')),\n                ('kmeans', KMeans(n_clusters=5, random_state=0))])",
      "text/html": "<style>#sk-container-id-1 {color: black;background-color: white;}#sk-container-id-1 pre{padding: 0;}#sk-container-id-1 div.sk-toggleable {background-color: white;}#sk-container-id-1 label.sk-toggleable__label {cursor: pointer;display: block;width: 100%;margin-bottom: 0;padding: 0.3em;box-sizing: border-box;text-align: center;}#sk-container-id-1 label.sk-toggleable__label-arrow:before {content: \"▸\";float: left;margin-right: 0.25em;color: #696969;}#sk-container-id-1 label.sk-toggleable__label-arrow:hover:before {color: black;}#sk-container-id-1 div.sk-estimator:hover label.sk-toggleable__label-arrow:before {color: black;}#sk-container-id-1 div.sk-toggleable__content {max-height: 0;max-width: 0;overflow: hidden;text-align: left;background-color: #f0f8ff;}#sk-container-id-1 div.sk-toggleable__content pre {margin: 0.2em;color: black;border-radius: 0.25em;background-color: #f0f8ff;}#sk-container-id-1 input.sk-toggleable__control:checked~div.sk-toggleable__content {max-height: 200px;max-width: 100%;overflow: auto;}#sk-container-id-1 input.sk-toggleable__control:checked~label.sk-toggleable__label-arrow:before {content: \"▾\";}#sk-container-id-1 div.sk-estimator input.sk-toggleable__control:checked~label.sk-toggleable__label {background-color: #d4ebff;}#sk-container-id-1 div.sk-label input.sk-toggleable__control:checked~label.sk-toggleable__label {background-color: #d4ebff;}#sk-container-id-1 input.sk-hidden--visually {border: 0;clip: rect(1px 1px 1px 1px);clip: rect(1px, 1px, 1px, 1px);height: 1px;margin: -1px;overflow: hidden;padding: 0;position: absolute;width: 1px;}#sk-container-id-1 div.sk-estimator {font-family: monospace;background-color: #f0f8ff;border: 1px dotted black;border-radius: 0.25em;box-sizing: border-box;margin-bottom: 0.5em;}#sk-container-id-1 div.sk-estimator:hover {background-color: #d4ebff;}#sk-container-id-1 div.sk-parallel-item::after {content: \"\";width: 100%;border-bottom: 1px solid gray;flex-grow: 1;}#sk-container-id-1 div.sk-label:hover label.sk-toggleable__label {background-color: #d4ebff;}#sk-container-id-1 div.sk-serial::before {content: \"\";position: absolute;border-left: 1px solid gray;box-sizing: border-box;top: 0;bottom: 0;left: 50%;z-index: 0;}#sk-container-id-1 div.sk-serial {display: flex;flex-direction: column;align-items: center;background-color: white;padding-right: 0.2em;padding-left: 0.2em;position: relative;}#sk-container-id-1 div.sk-item {position: relative;z-index: 1;}#sk-container-id-1 div.sk-parallel {display: flex;align-items: stretch;justify-content: center;background-color: white;position: relative;}#sk-container-id-1 div.sk-item::before, #sk-container-id-1 div.sk-parallel-item::before {content: \"\";position: absolute;border-left: 1px solid gray;box-sizing: border-box;top: 0;bottom: 0;left: 50%;z-index: -1;}#sk-container-id-1 div.sk-parallel-item {display: flex;flex-direction: column;z-index: 1;position: relative;background-color: white;}#sk-container-id-1 div.sk-parallel-item:first-child::after {align-self: flex-end;width: 50%;}#sk-container-id-1 div.sk-parallel-item:last-child::after {align-self: flex-start;width: 50%;}#sk-container-id-1 div.sk-parallel-item:only-child::after {width: 0;}#sk-container-id-1 div.sk-dashed-wrapped {border: 1px dashed gray;margin: 0 0.4em 0.5em 0.4em;box-sizing: border-box;padding-bottom: 0.4em;background-color: white;}#sk-container-id-1 div.sk-label label {font-family: monospace;font-weight: bold;display: inline-block;line-height: 1.2em;}#sk-container-id-1 div.sk-label-container {text-align: center;}#sk-container-id-1 div.sk-container {/* jupyter's `normalize.less` sets `[hidden] { display: none; }` but bootstrap.min.css set `[hidden] { display: none !important; }` so we also need the `!important` here to be able to override the default hidden behavior on the sphinx rendered scikit-learn.org. See: https://github.com/scikit-learn/scikit-learn/issues/21755 */display: inline-block !important;position: relative;}#sk-container-id-1 div.sk-text-repr-fallback {display: none;}</style><div id=\"sk-container-id-1\" class=\"sk-top-container\"><div class=\"sk-text-repr-fallback\"><pre>Pipeline(steps=[(&#x27;standardscaler&#x27;, StandardScaler()),\n                (&#x27;pca&#x27;, PCA(n_components=2, svd_solver=&#x27;full&#x27;)),\n                (&#x27;kmeans&#x27;, KMeans(n_clusters=5, random_state=0))])</pre><b>In a Jupyter environment, please rerun this cell to show the HTML representation or trust the notebook. <br />On GitHub, the HTML representation is unable to render, please try loading this page with nbviewer.org.</b></div><div class=\"sk-container\" hidden><div class=\"sk-item sk-dashed-wrapped\"><div class=\"sk-label-container\"><div class=\"sk-label sk-toggleable\"><input class=\"sk-toggleable__control sk-hidden--visually\" id=\"sk-estimator-id-1\" type=\"checkbox\" ><label for=\"sk-estimator-id-1\" class=\"sk-toggleable__label sk-toggleable__label-arrow\">Pipeline</label><div class=\"sk-toggleable__content\"><pre>Pipeline(steps=[(&#x27;standardscaler&#x27;, StandardScaler()),\n                (&#x27;pca&#x27;, PCA(n_components=2, svd_solver=&#x27;full&#x27;)),\n                (&#x27;kmeans&#x27;, KMeans(n_clusters=5, random_state=0))])</pre></div></div></div><div class=\"sk-serial\"><div class=\"sk-item\"><div class=\"sk-estimator sk-toggleable\"><input class=\"sk-toggleable__control sk-hidden--visually\" id=\"sk-estimator-id-2\" type=\"checkbox\" ><label for=\"sk-estimator-id-2\" class=\"sk-toggleable__label sk-toggleable__label-arrow\">StandardScaler</label><div class=\"sk-toggleable__content\"><pre>StandardScaler()</pre></div></div></div><div class=\"sk-item\"><div class=\"sk-estimator sk-toggleable\"><input class=\"sk-toggleable__control sk-hidden--visually\" id=\"sk-estimator-id-3\" type=\"checkbox\" ><label for=\"sk-estimator-id-3\" class=\"sk-toggleable__label sk-toggleable__label-arrow\">PCA</label><div class=\"sk-toggleable__content\"><pre>PCA(n_components=2, svd_solver=&#x27;full&#x27;)</pre></div></div></div><div class=\"sk-item\"><div class=\"sk-estimator sk-toggleable\"><input class=\"sk-toggleable__control sk-hidden--visually\" id=\"sk-estimator-id-4\" type=\"checkbox\" ><label for=\"sk-estimator-id-4\" class=\"sk-toggleable__label sk-toggleable__label-arrow\">KMeans</label><div class=\"sk-toggleable__content\"><pre>KMeans(n_clusters=5, random_state=0)</pre></div></div></div></div></div></div></div>"
     },
     "metadata": {}
    }
   ],
   "execution_count": 21
  },
  {
   "cell_type": "markdown",
   "source": "<b> assign labels <b>",
   "metadata": {
    "cell_id": "403715621ef449878146a0809d0afff8",
    "tags": [],
    "deepnote_app_coordinates": {
     "x": 0,
     "y": 0,
     "w": 12,
     "h": 5
    },
    "deepnote_cell_type": "markdown",
    "deepnote_cell_height": 52.390625
   }
  },
  {
   "cell_type": "code",
   "source": "# return a label for each data point based on their cluster\nlabels = model_fit.predict(df)\ntrain_X['Clusters'] = labels",
   "metadata": {
    "cell_id": "c3da976c07654b94bdb8b411c9ee5a84",
    "tags": [],
    "deepnote_app_coordinates": {
     "x": 0,
     "y": 0,
     "w": 12,
     "h": 5
    },
    "deepnote_to_be_reexecuted": false,
    "source_hash": "fec80033",
    "execution_start": 1660449152921,
    "execution_millis": 15,
    "deepnote_cell_type": "code",
    "deepnote_cell_height": 112
   },
   "outputs": [],
   "execution_count": 22
  },
  {
   "cell_type": "code",
   "source": "# Number of data points for each feature in each cluster\ntrain_X.groupby('Clusters').count()",
   "metadata": {
    "cell_id": "030a97c70b114925bb3086d1533d862b",
    "tags": [],
    "deepnote_to_be_reexecuted": false,
    "source_hash": "68a6f779",
    "execution_start": 1660449152936,
    "execution_millis": 33,
    "deepnote_app_coordinates": {
     "x": 0,
     "y": 130,
     "w": 12,
     "h": 5
    },
    "deepnote_cell_type": "code",
    "deepnote_cell_height": 447
   },
   "execution_count": 23,
   "outputs": [
    {
     "output_type": "execute_result",
     "execution_count": 23,
     "data": {
      "application/vnd.deepnote.dataframe.v3+json": {
       "column_count": 4,
       "row_count": 5,
       "columns": [
        {
         "name": "Gender",
         "dtype": "int64",
         "stats": {
          "unique_count": 5,
          "nan_count": 0,
          "min": "18",
          "max": "43",
          "histogram": [
           {
            "bin_start": 18,
            "bin_end": 20.5,
            "count": 1
           },
           {
            "bin_start": 20.5,
            "bin_end": 23,
            "count": 0
           },
           {
            "bin_start": 23,
            "bin_end": 25.5,
            "count": 1
           },
           {
            "bin_start": 25.5,
            "bin_end": 28,
            "count": 0
           },
           {
            "bin_start": 28,
            "bin_end": 30.5,
            "count": 0
           },
           {
            "bin_start": 30.5,
            "bin_end": 33,
            "count": 0
           },
           {
            "bin_start": 33,
            "bin_end": 35.5,
            "count": 0
           },
           {
            "bin_start": 35.5,
            "bin_end": 38,
            "count": 1
           },
           {
            "bin_start": 38,
            "bin_end": 40.5,
            "count": 1
           },
           {
            "bin_start": 40.5,
            "bin_end": 43,
            "count": 1
           }
          ]
         }
        },
        {
         "name": "Age",
         "dtype": "int64",
         "stats": {
          "unique_count": 5,
          "nan_count": 0,
          "min": "18",
          "max": "43",
          "histogram": [
           {
            "bin_start": 18,
            "bin_end": 20.5,
            "count": 1
           },
           {
            "bin_start": 20.5,
            "bin_end": 23,
            "count": 0
           },
           {
            "bin_start": 23,
            "bin_end": 25.5,
            "count": 1
           },
           {
            "bin_start": 25.5,
            "bin_end": 28,
            "count": 0
           },
           {
            "bin_start": 28,
            "bin_end": 30.5,
            "count": 0
           },
           {
            "bin_start": 30.5,
            "bin_end": 33,
            "count": 0
           },
           {
            "bin_start": 33,
            "bin_end": 35.5,
            "count": 0
           },
           {
            "bin_start": 35.5,
            "bin_end": 38,
            "count": 1
           },
           {
            "bin_start": 38,
            "bin_end": 40.5,
            "count": 1
           },
           {
            "bin_start": 40.5,
            "bin_end": 43,
            "count": 1
           }
          ]
         }
        },
        {
         "name": "Annual Income (k$)",
         "dtype": "int64",
         "stats": {
          "unique_count": 5,
          "nan_count": 0,
          "min": "18",
          "max": "43",
          "histogram": [
           {
            "bin_start": 18,
            "bin_end": 20.5,
            "count": 1
           },
           {
            "bin_start": 20.5,
            "bin_end": 23,
            "count": 0
           },
           {
            "bin_start": 23,
            "bin_end": 25.5,
            "count": 1
           },
           {
            "bin_start": 25.5,
            "bin_end": 28,
            "count": 0
           },
           {
            "bin_start": 28,
            "bin_end": 30.5,
            "count": 0
           },
           {
            "bin_start": 30.5,
            "bin_end": 33,
            "count": 0
           },
           {
            "bin_start": 33,
            "bin_end": 35.5,
            "count": 0
           },
           {
            "bin_start": 35.5,
            "bin_end": 38,
            "count": 1
           },
           {
            "bin_start": 38,
            "bin_end": 40.5,
            "count": 1
           },
           {
            "bin_start": 40.5,
            "bin_end": 43,
            "count": 1
           }
          ]
         }
        },
        {
         "name": "Spending Score (1-100)",
         "dtype": "int64",
         "stats": {
          "unique_count": 5,
          "nan_count": 0,
          "min": "18",
          "max": "43",
          "histogram": [
           {
            "bin_start": 18,
            "bin_end": 20.5,
            "count": 1
           },
           {
            "bin_start": 20.5,
            "bin_end": 23,
            "count": 0
           },
           {
            "bin_start": 23,
            "bin_end": 25.5,
            "count": 1
           },
           {
            "bin_start": 25.5,
            "bin_end": 28,
            "count": 0
           },
           {
            "bin_start": 28,
            "bin_end": 30.5,
            "count": 0
           },
           {
            "bin_start": 30.5,
            "bin_end": 33,
            "count": 0
           },
           {
            "bin_start": 33,
            "bin_end": 35.5,
            "count": 0
           },
           {
            "bin_start": 35.5,
            "bin_end": 38,
            "count": 1
           },
           {
            "bin_start": 38,
            "bin_end": 40.5,
            "count": 1
           },
           {
            "bin_start": 40.5,
            "bin_end": 43,
            "count": 1
           }
          ]
         }
        },
        {
         "name": "_deepnote_index_column",
         "dtype": "int64"
        }
       ],
       "rows": [
        {
         "Gender": 43,
         "Age": 43,
         "Annual Income (k$)": 43,
         "Spending Score (1-100)": 43,
         "_deepnote_index_column": 0
        },
        {
         "Gender": 24,
         "Age": 24,
         "Annual Income (k$)": 24,
         "Spending Score (1-100)": 24,
         "_deepnote_index_column": 1
        },
        {
         "Gender": 37,
         "Age": 37,
         "Annual Income (k$)": 37,
         "Spending Score (1-100)": 37,
         "_deepnote_index_column": 2
        },
        {
         "Gender": 38,
         "Age": 38,
         "Annual Income (k$)": 38,
         "Spending Score (1-100)": 38,
         "_deepnote_index_column": 3
        },
        {
         "Gender": 18,
         "Age": 18,
         "Annual Income (k$)": 18,
         "Spending Score (1-100)": 18,
         "_deepnote_index_column": 4
        }
       ]
      },
      "text/plain": "          Gender  Age  Annual Income (k$)  Spending Score (1-100)\nClusters                                                         \n0             43   43                  43                      43\n1             24   24                  24                      24\n2             37   37                  37                      37\n3             38   38                  38                      38\n4             18   18                  18                      18",
      "text/html": "<div>\n<style scoped>\n    .dataframe tbody tr th:only-of-type {\n        vertical-align: middle;\n    }\n\n    .dataframe tbody tr th {\n        vertical-align: top;\n    }\n\n    .dataframe thead th {\n        text-align: right;\n    }\n</style>\n<table border=\"1\" class=\"dataframe\">\n  <thead>\n    <tr style=\"text-align: right;\">\n      <th></th>\n      <th>Gender</th>\n      <th>Age</th>\n      <th>Annual Income (k$)</th>\n      <th>Spending Score (1-100)</th>\n    </tr>\n    <tr>\n      <th>Clusters</th>\n      <th></th>\n      <th></th>\n      <th></th>\n      <th></th>\n    </tr>\n  </thead>\n  <tbody>\n    <tr>\n      <th>0</th>\n      <td>43</td>\n      <td>43</td>\n      <td>43</td>\n      <td>43</td>\n    </tr>\n    <tr>\n      <th>1</th>\n      <td>24</td>\n      <td>24</td>\n      <td>24</td>\n      <td>24</td>\n    </tr>\n    <tr>\n      <th>2</th>\n      <td>37</td>\n      <td>37</td>\n      <td>37</td>\n      <td>37</td>\n    </tr>\n    <tr>\n      <th>3</th>\n      <td>38</td>\n      <td>38</td>\n      <td>38</td>\n      <td>38</td>\n    </tr>\n    <tr>\n      <th>4</th>\n      <td>18</td>\n      <td>18</td>\n      <td>18</td>\n      <td>18</td>\n    </tr>\n  </tbody>\n</table>\n</div>"
     },
     "metadata": {}
    }
   ]
  },
  {
   "cell_type": "code",
   "source": "# Scatter plot visuals with labels\n\nxs = data_pca2[:,0]\nys = data_pca2[:,1]\n#zs = train_X.iloc[:,2]\nplt.scatter(ys, xs,c=labels)\n#plt.scatter(ys, zs, c=labels)\n\nplt.grid(False)\nplt.title('Scatter Plot of Customers data')\nplt.xlabel('PCA-01')\nplt.ylabel('PCA-02')\n\nplt.show()",
   "metadata": {
    "cell_id": "f91963f8cf36472191ddaf78e543f9b5",
    "tags": [],
    "deepnote_to_be_reexecuted": false,
    "source_hash": "3676f0e4",
    "execution_start": 1660449152973,
    "execution_millis": 267,
    "deepnote_app_coordinates": {
     "x": 0,
     "y": 136,
     "w": 12,
     "h": 5
    },
    "deepnote_cell_type": "code",
    "deepnote_cell_height": 853,
    "deepnote_output_heights": [
     280
    ]
   },
   "execution_count": 24,
   "outputs": [
    {
     "data": {
      "text/plain": "<Figure size 432x288 with 1 Axes>",
      "image/png": "[encoded data removed]"
     },
     "metadata": {
      "needs_background": "light",
      "image/png": {
       "width": 384,
       "height": 278
      }
     },
     "output_type": "display_data"
    }
   ]
  },
  {
   "cell_type": "markdown",
   "source": "### Validate with test data\r",
   "metadata": {
    "is_collapsed": false,
    "cell_id": "3729029bc23c47228d8c96c3ccdab19c",
    "tags": [],
    "deepnote_app_coordinates": {
     "x": 0,
     "y": 0,
     "w": 12,
     "h": 5
    },
    "formattedRanges": [],
    "deepnote_cell_type": "text-cell-h3"
   }
  },
  {
   "cell_type": "code",
   "source": "# predict the labels\nle.fit(test_X.Gender)\n\n#update df2 with transformed values of gender\ntest_X.loc[:,'Gender'] = le.transform(test_X.Gender)\n\nlabels_test = model_fit.predict(test_X)\ntest_X['Clusters'] = labels_test\n\nlabels_test",
   "metadata": {
    "cell_id": "55e28a8bb651458b9b612a7e25ef4498",
    "tags": [],
    "deepnote_app_coordinates": {
     "x": 0,
     "y": 0,
     "w": 12,
     "h": 5
    },
    "deepnote_to_be_reexecuted": false,
    "source_hash": "a2f03b03",
    "execution_start": 1660449153244,
    "execution_millis": 19,
    "deepnote_cell_type": "code",
    "deepnote_cell_height": 254,
    "deepnote_output_heights": [
     40.375
    ]
   },
   "outputs": [
    {
     "output_type": "execute_result",
     "execution_count": 25,
     "data": {
      "text/plain": "array([1, 2, 3, 3, 3, 2, 4, 3, 3, 4, 0, 3, 2, 4, 3, 1, 0, 0, 3, 2, 2, 0,\n       0, 0, 2, 3, 4, 0, 2, 2, 4, 0, 3, 1, 3, 3, 2, 1, 3, 0], dtype=int32)"
     },
     "metadata": {}
    }
   ],
   "execution_count": 25
  },
  {
   "cell_type": "code",
   "source": "# Number of data points for each feature in each cluster\ntest_X.groupby('Clusters').count()",
   "metadata": {
    "cell_id": "811827dbf960447f9a33aec1554666c5",
    "tags": [],
    "deepnote_app_coordinates": {
     "x": 0,
     "y": 0,
     "w": 12,
     "h": 5
    },
    "deepnote_to_be_reexecuted": false,
    "source_hash": "3a0fa1b",
    "execution_start": 1660449153265,
    "execution_millis": 40,
    "deepnote_cell_type": "code",
    "deepnote_cell_height": 447
   },
   "outputs": [
    {
     "output_type": "execute_result",
     "execution_count": 26,
     "data": {
      "application/vnd.deepnote.dataframe.v3+json": {
       "column_count": 4,
       "row_count": 5,
       "columns": [
        {
         "name": "Gender",
         "dtype": "int64",
         "stats": {
          "unique_count": 4,
          "nan_count": 0,
          "min": "4",
          "max": "13",
          "histogram": [
           {
            "bin_start": 4,
            "bin_end": 4.9,
            "count": 1
           },
           {
            "bin_start": 4.9,
            "bin_end": 5.8,
            "count": 1
           },
           {
            "bin_start": 5.8,
            "bin_end": 6.7,
            "count": 0
           },
           {
            "bin_start": 6.7,
            "bin_end": 7.6,
            "count": 0
           },
           {
            "bin_start": 7.6,
            "bin_end": 8.5,
            "count": 0
           },
           {
            "bin_start": 8.5,
            "bin_end": 9.4,
            "count": 2
           },
           {
            "bin_start": 9.4,
            "bin_end": 10.3,
            "count": 0
           },
           {
            "bin_start": 10.3,
            "bin_end": 11.2,
            "count": 0
           },
           {
            "bin_start": 11.2,
            "bin_end": 12.1,
            "count": 0
           },
           {
            "bin_start": 12.1,
            "bin_end": 13,
            "count": 1
           }
          ]
         }
        },
        {
         "name": "Age",
         "dtype": "int64",
         "stats": {
          "unique_count": 4,
          "nan_count": 0,
          "min": "4",
          "max": "13",
          "histogram": [
           {
            "bin_start": 4,
            "bin_end": 4.9,
            "count": 1
           },
           {
            "bin_start": 4.9,
            "bin_end": 5.8,
            "count": 1
           },
           {
            "bin_start": 5.8,
            "bin_end": 6.7,
            "count": 0
           },
           {
            "bin_start": 6.7,
            "bin_end": 7.6,
            "count": 0
           },
           {
            "bin_start": 7.6,
            "bin_end": 8.5,
            "count": 0
           },
           {
            "bin_start": 8.5,
            "bin_end": 9.4,
            "count": 2
           },
           {
            "bin_start": 9.4,
            "bin_end": 10.3,
            "count": 0
           },
           {
            "bin_start": 10.3,
            "bin_end": 11.2,
            "count": 0
           },
           {
            "bin_start": 11.2,
            "bin_end": 12.1,
            "count": 0
           },
           {
            "bin_start": 12.1,
            "bin_end": 13,
            "count": 1
           }
          ]
         }
        },
        {
         "name": "Annual Income (k$)",
         "dtype": "int64",
         "stats": {
          "unique_count": 4,
          "nan_count": 0,
          "min": "4",
          "max": "13",
          "histogram": [
           {
            "bin_start": 4,
            "bin_end": 4.9,
            "count": 1
           },
           {
            "bin_start": 4.9,
            "bin_end": 5.8,
            "count": 1
           },
           {
            "bin_start": 5.8,
            "bin_end": 6.7,
            "count": 0
           },
           {
            "bin_start": 6.7,
            "bin_end": 7.6,
            "count": 0
           },
           {
            "bin_start": 7.6,
            "bin_end": 8.5,
            "count": 0
           },
           {
            "bin_start": 8.5,
            "bin_end": 9.4,
            "count": 2
           },
           {
            "bin_start": 9.4,
            "bin_end": 10.3,
            "count": 0
           },
           {
            "bin_start": 10.3,
            "bin_end": 11.2,
            "count": 0
           },
           {
            "bin_start": 11.2,
            "bin_end": 12.1,
            "count": 0
           },
           {
            "bin_start": 12.1,
            "bin_end": 13,
            "count": 1
           }
          ]
         }
        },
        {
         "name": "Spending Score (1-100)",
         "dtype": "int64",
         "stats": {
          "unique_count": 4,
          "nan_count": 0,
          "min": "4",
          "max": "13",
          "histogram": [
           {
            "bin_start": 4,
            "bin_end": 4.9,
            "count": 1
           },
           {
            "bin_start": 4.9,
            "bin_end": 5.8,
            "count": 1
           },
           {
            "bin_start": 5.8,
            "bin_end": 6.7,
            "count": 0
           },
           {
            "bin_start": 6.7,
            "bin_end": 7.6,
            "count": 0
           },
           {
            "bin_start": 7.6,
            "bin_end": 8.5,
            "count": 0
           },
           {
            "bin_start": 8.5,
            "bin_end": 9.4,
            "count": 2
           },
           {
            "bin_start": 9.4,
            "bin_end": 10.3,
            "count": 0
           },
           {
            "bin_start": 10.3,
            "bin_end": 11.2,
            "count": 0
           },
           {
            "bin_start": 11.2,
            "bin_end": 12.1,
            "count": 0
           },
           {
            "bin_start": 12.1,
            "bin_end": 13,
            "count": 1
           }
          ]
         }
        },
        {
         "name": "_deepnote_index_column",
         "dtype": "int64"
        }
       ],
       "rows": [
        {
         "Gender": 9,
         "Age": 9,
         "Annual Income (k$)": 9,
         "Spending Score (1-100)": 9,
         "_deepnote_index_column": 0
        },
        {
         "Gender": 4,
         "Age": 4,
         "Annual Income (k$)": 4,
         "Spending Score (1-100)": 4,
         "_deepnote_index_column": 1
        },
        {
         "Gender": 9,
         "Age": 9,
         "Annual Income (k$)": 9,
         "Spending Score (1-100)": 9,
         "_deepnote_index_column": 2
        },
        {
         "Gender": 13,
         "Age": 13,
         "Annual Income (k$)": 13,
         "Spending Score (1-100)": 13,
         "_deepnote_index_column": 3
        },
        {
         "Gender": 5,
         "Age": 5,
         "Annual Income (k$)": 5,
         "Spending Score (1-100)": 5,
         "_deepnote_index_column": 4
        }
       ]
      },
      "text/plain": "          Gender  Age  Annual Income (k$)  Spending Score (1-100)\nClusters                                                         \n0              9    9                   9                       9\n1              4    4                   4                       4\n2              9    9                   9                       9\n3             13   13                  13                      13\n4              5    5                   5                       5",
      "text/html": "<div>\n<style scoped>\n    .dataframe tbody tr th:only-of-type {\n        vertical-align: middle;\n    }\n\n    .dataframe tbody tr th {\n        vertical-align: top;\n    }\n\n    .dataframe thead th {\n        text-align: right;\n    }\n</style>\n<table border=\"1\" class=\"dataframe\">\n  <thead>\n    <tr style=\"text-align: right;\">\n      <th></th>\n      <th>Gender</th>\n      <th>Age</th>\n      <th>Annual Income (k$)</th>\n      <th>Spending Score (1-100)</th>\n    </tr>\n    <tr>\n      <th>Clusters</th>\n      <th></th>\n      <th></th>\n      <th></th>\n      <th></th>\n    </tr>\n  </thead>\n  <tbody>\n    <tr>\n      <th>0</th>\n      <td>9</td>\n      <td>9</td>\n      <td>9</td>\n      <td>9</td>\n    </tr>\n    <tr>\n      <th>1</th>\n      <td>4</td>\n      <td>4</td>\n      <td>4</td>\n      <td>4</td>\n    </tr>\n    <tr>\n      <th>2</th>\n      <td>9</td>\n      <td>9</td>\n      <td>9</td>\n      <td>9</td>\n    </tr>\n    <tr>\n      <th>3</th>\n      <td>13</td>\n      <td>13</td>\n      <td>13</td>\n      <td>13</td>\n    </tr>\n    <tr>\n      <th>4</th>\n      <td>5</td>\n      <td>5</td>\n      <td>5</td>\n      <td>5</td>\n    </tr>\n  </tbody>\n</table>\n</div>"
     },
     "metadata": {}
    }
   ],
   "execution_count": 26
  },
  {
   "cell_type": "markdown",
   "source": "### Enfin !",
   "metadata": {
    "is_collapsed": false,
    "cell_id": "154c446ea9f44618a80776091ed46fa3",
    "tags": [],
    "deepnote_app_coordinates": {
     "x": 0,
     "y": 0,
     "w": 12,
     "h": 5
    },
    "formattedRanges": [],
    "deepnote_cell_type": "text-cell-h3"
   }
  },
  {
   "cell_type": "code",
   "source": "cluster_heatmap_df = train_X.groupby(['Clusters'])[['Age','Annual Income (k$)','Spending Score (1-100)']].median()\nheatcmap = sns.diverging_palette(230, 20, as_cmap=True)\ncluster_heatmap_df['FemaleRatio'] = train_X[train_X['Gender'] == 'Female'].groupby(['Clusters']).count()['Gender'] / train_X.groupby(['Clusters']).count()['Gender'] * 100\n\nfig, ax = plt.subplots(1, 1, figsize=(10, 10))\n\nsns.heatmap(cluster_heatmap_df.T, \n    square=True,\n    linewidth=3,\n    vmax=80, \n    vmin=1,\n    cmap=heatcmap,\n    cbar=False, \n    annot=True,\n    fmt='3.0f',\n    ax=ax,\n);\n\nax.set_title('Cluster Summary');\nplt.tight_layout()",
   "metadata": {
    "cell_id": "767f1153276241779c3f2f927d8e595b",
    "tags": [],
    "deepnote_app_coordinates": {
     "x": 0,
     "y": 0,
     "w": 12,
     "h": 5
    },
    "deepnote_to_be_reexecuted": false,
    "source_hash": "471bc722",
    "execution_start": 1660449153316,
    "execution_millis": 407,
    "deepnote_cell_type": "code",
    "deepnote_cell_height": 434,
    "deepnote_output_heights": [
     608,
     581
    ]
   },
   "outputs": [
    {
     "data": {
      "text/plain": "<Figure size 720x720 with 1 Axes>",
      "image/png": "[encoded data removed]"
     },
     "metadata": {
      "needs_background": "light",
      "image/png": {
       "width": 712,
       "height": 606
      }
     },
     "output_type": "display_data"
    }
   ],
   "execution_count": 27
  },
  {
   "cell_type": "markdown",
   "source": "For the given dataset, we have segmented the customers into 5 clusters using Kmeans algorithm. Each cluster is mix of defined variables such as - gender, age, spending score and annual income.",
   "metadata": {
    "cell_id": "9ed04057281344ae98e18e5412355733",
    "tags": [],
    "deepnote_app_coordinates": {
     "x": 0,
     "y": 0,
     "w": 12,
     "h": 5
    },
    "deepnote_cell_type": "markdown",
    "deepnote_cell_height": 186.734375
   }
  },
  {
   "cell_type": "markdown",
   "source": "<a style='text-decoration:none;line-height:16px;display:flex;color:#5B5B62;padding:10px;justify-content:end;' href='https://deepnote.com?utm_source=created-in-deepnote-cell&projectId=4d8a14e9-c0d1-4f22-8c8b-9360d456168a' target=\"_blank\">\n<img alt='Created in deepnote.com' style='display:inline;max-height:16px;margin:0px;margin-right:7.5px;' src='data:image/svg+xml;base64,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' > </img>\nCreated in <span style='font-weight:600;margin-left:4px;'>Deepnote</span></a>",
   "metadata": {
    "tags": [],
    "created_in_deepnote_cell": true,
    "deepnote_cell_type": "markdown"
   }
  }
 ],
 "nbformat": 4,
 "nbformat_minor": 2,
 "metadata": {
  "orig_nbformat": 2,
  "deepnote": {},
  "deepnote_notebook_id": "c40d0633-8bf7-47f0-a38b-a3d7a630d934",
  "deepnote_execution_queue": [],
  "deepnote_app_layout": "article"
 }
}